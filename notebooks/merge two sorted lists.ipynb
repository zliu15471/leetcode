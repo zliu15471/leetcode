{
 "cells": [
  {
   "cell_type": "code",
   "execution_count": 6,
   "id": "62deed98",
   "metadata": {},
   "outputs": [],
   "source": [
    "class ListNode:\n",
    "    def __init__(self, val=0, next=None):\n",
    "        self.val = val\n",
    "        self.next = next\n",
    "        \n",
    "class Solution:\n",
    "    def mergeTwoLists(self, list1: [ListNode], list2: [ListNode]) -> [ListNode]:\n",
    "        \n",
    "        prehead = ListNode(-1)\n",
    "\n",
    "        prev = prehead\n",
    "   \n",
    "        while list1 and list2:\n",
    "            \n",
    "            if list1.val <= list2.val:\n",
    "                prev.next = list1\n",
    "                list1 = list1.next\n",
    "            else:\n",
    "                prev.next = list2\n",
    "                list2 = list2.next\n",
    "            prev = prev.next\n",
    "\n",
    "\n",
    "        prev.next = list1 if list1 is not None else list2\n",
    "\n",
    "        return prehead.next"
   ]
  },
  {
   "cell_type": "code",
   "execution_count": null,
   "id": "722dbb5b",
   "metadata": {},
   "outputs": [],
   "source": []
  }
 ],
 "metadata": {
  "kernelspec": {
   "display_name": "Python 3 (ipykernel)",
   "language": "python",
   "name": "python3"
  },
  "language_info": {
   "codemirror_mode": {
    "name": "ipython",
    "version": 3
   },
   "file_extension": ".py",
   "mimetype": "text/x-python",
   "name": "python",
   "nbconvert_exporter": "python",
   "pygments_lexer": "ipython3",
   "version": "3.8.12"
  },
  "toc": {
   "base_numbering": 1,
   "nav_menu": {},
   "number_sections": true,
   "sideBar": true,
   "skip_h1_title": false,
   "title_cell": "Table of Contents",
   "title_sidebar": "Contents",
   "toc_cell": false,
   "toc_position": {},
   "toc_section_display": true,
   "toc_window_display": false
  }
 },
 "nbformat": 4,
 "nbformat_minor": 5
}
