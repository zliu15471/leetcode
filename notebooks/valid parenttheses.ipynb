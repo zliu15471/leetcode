{
 "cells": [
  {
   "cell_type": "code",
   "execution_count": 1,
   "id": "1a035b1a",
   "metadata": {},
   "outputs": [],
   "source": [
    "m = {\n",
    "        '(' : ')',\n",
    "        '[' : ']',\n",
    "        '{' : '}'\n",
    "    }"
   ]
  },
  {
   "cell_type": "code",
   "execution_count": 3,
   "id": "ae47b35a",
   "metadata": {},
   "outputs": [
    {
     "data": {
      "text/plain": [
       "str"
      ]
     },
     "execution_count": 3,
     "metadata": {},
     "output_type": "execute_result"
    }
   ],
   "source": [
    "type(m['['])"
   ]
  },
  {
   "cell_type": "code",
   "execution_count": 4,
   "id": "ac7507e8",
   "metadata": {},
   "outputs": [],
   "source": [
    "def valp(s):\n",
    "    m={\n",
    "        '(':')',\n",
    "        '[':']',\n",
    "        '{':'}'\n",
    "    }\n",
    "    \n",
    "    \n",
    "    stack = []\n",
    "    \n",
    "    open_valid = ['(','[','{']\n",
    "    \n",
    "    for i in s:\n",
    "        \n",
    "        if i in open_valid:\n",
    "            \n",
    "            stack.append(i)\n",
    "            \n",
    "        elif stack and i == m[stack[-1]]:\n",
    "            \n",
    "            stack.pop()\n",
    "        else:\n",
    "            return False \n",
    "    return stack == []\n",
    "    "
   ]
  },
  {
   "cell_type": "code",
   "execution_count": 5,
   "id": "2c3f5abb",
   "metadata": {},
   "outputs": [
    {
     "data": {
      "text/plain": [
       "True"
      ]
     },
     "execution_count": 5,
     "metadata": {},
     "output_type": "execute_result"
    }
   ],
   "source": [
    "valp('[[[[[[]]]]]]')"
   ]
  },
  {
   "cell_type": "code",
   "execution_count": null,
   "id": "d68b6072",
   "metadata": {},
   "outputs": [],
   "source": []
  }
 ],
 "metadata": {
  "kernelspec": {
   "display_name": "Python 3 (ipykernel)",
   "language": "python",
   "name": "python3"
  },
  "language_info": {
   "codemirror_mode": {
    "name": "ipython",
    "version": 3
   },
   "file_extension": ".py",
   "mimetype": "text/x-python",
   "name": "python",
   "nbconvert_exporter": "python",
   "pygments_lexer": "ipython3",
   "version": "3.8.12"
  },
  "toc": {
   "base_numbering": 1,
   "nav_menu": {},
   "number_sections": true,
   "sideBar": true,
   "skip_h1_title": false,
   "title_cell": "Table of Contents",
   "title_sidebar": "Contents",
   "toc_cell": false,
   "toc_position": {},
   "toc_section_display": true,
   "toc_window_display": false
  }
 },
 "nbformat": 4,
 "nbformat_minor": 5
}
