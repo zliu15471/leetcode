{
 "cells": [
  {
   "cell_type": "code",
   "execution_count": 1,
   "id": "800d531d",
   "metadata": {},
   "outputs": [
    {
     "data": {
      "text/plain": [
       "10"
      ]
     },
     "execution_count": 1,
     "metadata": {},
     "output_type": "execute_result"
    }
   ],
   "source": [
    "a = 'adaidaodah'\n",
    "len(a)"
   ]
  },
  {
   "cell_type": "code",
   "execution_count": 2,
   "id": "2adfcb50",
   "metadata": {},
   "outputs": [
    {
     "data": {
      "text/plain": [
       "'d'"
      ]
     },
     "execution_count": 2,
     "metadata": {},
     "output_type": "execute_result"
    }
   ],
   "source": [
    "a[1]"
   ]
  },
  {
   "cell_type": "code",
   "execution_count": 12,
   "id": "9e22a166",
   "metadata": {},
   "outputs": [],
   "source": [
    "\n",
    "def romanToInt(s):\n",
    "\n",
    "    value = {\n",
    "        'I' :1,\n",
    "        'V' :5,\n",
    "        'X' :10,\n",
    "        'L' :50,\n",
    "        'C' :100,\n",
    "        'D' :500,\n",
    "        'M' :1000\n",
    "    }\n",
    "\n",
    "    i = 0\n",
    "    result = 0\n",
    "    while i <len(s):\n",
    "        # considering the substract situation\n",
    "        if i+1 < len(s)  and value[s[i]] < value[s[i+1]]:\n",
    "            result += value[s[i+1]]-value[s[i]]\n",
    "            i+= 2\n",
    "        else:\n",
    "            result += value[s[i]]\n",
    "            i+= 1\n",
    "    return result\n",
    "                "
   ]
  },
  {
   "cell_type": "code",
   "execution_count": 14,
   "id": "98712270",
   "metadata": {},
   "outputs": [
    {
     "data": {
      "text/plain": [
       "3"
      ]
     },
     "execution_count": 14,
     "metadata": {},
     "output_type": "execute_result"
    }
   ],
   "source": [
    "romanToInt('III')"
   ]
  },
  {
   "cell_type": "code",
   "execution_count": 15,
   "id": "24e9cb61",
   "metadata": {},
   "outputs": [
    {
     "data": {
      "text/plain": [
       "1994"
      ]
     },
     "execution_count": 15,
     "metadata": {},
     "output_type": "execute_result"
    }
   ],
   "source": [
    "romanToInt('MCMXCIV')"
   ]
  },
  {
   "cell_type": "code",
   "execution_count": null,
   "id": "e4d3c80a",
   "metadata": {},
   "outputs": [],
   "source": []
  }
 ],
 "metadata": {
  "kernelspec": {
   "display_name": "Python 3 (ipykernel)",
   "language": "python",
   "name": "python3"
  },
  "language_info": {
   "codemirror_mode": {
    "name": "ipython",
    "version": 3
   },
   "file_extension": ".py",
   "mimetype": "text/x-python",
   "name": "python",
   "nbconvert_exporter": "python",
   "pygments_lexer": "ipython3",
   "version": "3.8.12"
  },
  "toc": {
   "base_numbering": 1,
   "nav_menu": {},
   "number_sections": true,
   "sideBar": true,
   "skip_h1_title": false,
   "title_cell": "Table of Contents",
   "title_sidebar": "Contents",
   "toc_cell": false,
   "toc_position": {},
   "toc_section_display": true,
   "toc_window_display": false
  }
 },
 "nbformat": 4,
 "nbformat_minor": 5
}
